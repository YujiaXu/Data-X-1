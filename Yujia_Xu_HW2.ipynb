{
 "cells": [
  {
   "cell_type": "markdown",
   "metadata": {},
   "source": [
    "# IEOR 290 003 Data X\n",
    "## HOMEWORK 2\n",
    "### Name: Yujia Xu\n",
    "### SID: 3032144766"
   ]
  },
  {
   "cell_type": "code",
   "execution_count": 32,
   "metadata": {
    "collapsed": true
   },
   "outputs": [],
   "source": [
    "import numpy as np"
   ]
  },
  {
   "cell_type": "code",
   "execution_count": 4,
   "metadata": {
    "collapsed": false
   },
   "outputs": [],
   "source": [
    "# Create two numpy arrays (a and b). \n",
    "# a should be all integers between 10-19 (inclusive), and b should be ten evenly spaced numbers between 1-7.\n",
    "a = np.arange(10,20)\n",
    "b = np.linspace(1,7,10)"
   ]
  },
  {
   "cell_type": "code",
   "execution_count": 5,
   "metadata": {
    "collapsed": false
   },
   "outputs": [
    {
     "name": "stdout",
     "output_type": "stream",
     "text": [
      "[100 121 144 169 196 225 256 289 324 361] [  1.           2.77777778   5.44444444   9.          13.44444444\n",
      "  18.77777778  25.          32.11111111  40.11111111  49.        ]\n"
     ]
    }
   ],
   "source": [
    "# Square all the elements in both arrays (element-wise)\n",
    "print a**2,b**2"
   ]
  },
  {
   "cell_type": "code",
   "execution_count": 8,
   "metadata": {
    "collapsed": false
   },
   "outputs": [
    {
     "name": "stdout",
     "output_type": "stream",
     "text": [
      "[ 101.          123.77777778  149.44444444  178.          209.44444444\n",
      "  243.77777778  281.          321.11111111  364.11111111  410.        ]\n"
     ]
    }
   ],
   "source": [
    "# Add both the squared arrays\n",
    "c = a**2 + b**2\n",
    "print c"
   ]
  },
  {
   "cell_type": "code",
   "execution_count": 10,
   "metadata": {
    "collapsed": false
   },
   "outputs": [
    {
     "name": "stdout",
     "output_type": "stream",
     "text": [
      "1276.66666667\n"
     ]
    }
   ],
   "source": [
    "# Sum the even elements of the added array\n",
    "sum_even = 0\n",
    "for i in range(len(c)):\n",
    "    if i % 2 == 1:\n",
    "        sum_even += c[i]\n",
    "print sum_even"
   ]
  },
  {
   "cell_type": "code",
   "execution_count": 11,
   "metadata": {
    "collapsed": false
   },
   "outputs": [
    {
     "name": "stdout",
     "output_type": "stream",
     "text": [
      "[ 10.04987562  11.12554618  12.22474721  13.34166406  14.47219556\n",
      "  15.61338457  16.76305461  17.91957341  19.08169571  20.24845673]\n"
     ]
    }
   ],
   "source": [
    "# Take the square root of the added array (element-wise square root)\n",
    "print np.sqrt(c)"
   ]
  },
  {
   "cell_type": "code",
   "execution_count": 17,
   "metadata": {
    "collapsed": false
   },
   "outputs": [
    {
     "name": "stdout",
     "output_type": "stream",
     "text": [
      "[[ 10.          11.          12.          13.        ]\n",
      " [ 14.          15.          16.          17.        ]\n",
      " [ 18.          19.           1.           1.66666667]\n",
      " [  2.33333333   3.           3.66666667   4.33333333]\n",
      " [  5.           5.66666667   6.33333333   7.        ]]\n"
     ]
    }
   ],
   "source": [
    "# Append b to a, reshape the appended array so that it is a 5x4, \n",
    "# 2d array and store the results in a variable called m. Print m.\n",
    "c = np.hstack((a,b))\n",
    "m = c.reshape(5,4)\n",
    "print m"
   ]
  },
  {
   "cell_type": "code",
   "execution_count": 19,
   "metadata": {
    "collapsed": false
   },
   "outputs": [
    {
     "name": "stdout",
     "output_type": "stream",
     "text": [
      "[[ 11.          12.        ]\n",
      " [ 15.          16.        ]\n",
      " [ 19.           1.        ]\n",
      " [  3.           3.66666667]\n",
      " [  5.66666667   6.33333333]]\n"
     ]
    }
   ],
   "source": [
    "# Extract the second and the third column of the m matrix. \n",
    "# Store the resulting 5x2 matrix in a new variable called m2. Print m2.\n",
    "m2 = m[:,1:3]\n",
    "print m2"
   ]
  },
  {
   "cell_type": "code",
   "execution_count": 21,
   "metadata": {
    "collapsed": false
   },
   "outputs": [
    {
     "name": "stdout",
     "output_type": "stream",
     "text": [
      "[[ 697.33333333  748.11111111  437.88888889  482.33333333]\n",
      " [ 402.22222222  437.88888889  454.55555556  489.88888889]]\n"
     ]
    }
   ],
   "source": [
    "# Take the dot product of m2T and m store \n",
    "# the results in a matrix called m3. Print m3.\n",
    "m3 = np.dot(m2.T,m)\n",
    "print m3"
   ]
  },
  {
   "cell_type": "code",
   "execution_count": 22,
   "metadata": {
    "collapsed": false
   },
   "outputs": [
    {
     "name": "stdout",
     "output_type": "stream",
     "text": [
      "[[ 697.33  748.11  437.89  482.33]\n",
      " [ 402.22  437.89  454.56  489.89]]\n"
     ]
    }
   ],
   "source": [
    "# Round the m3 matrix to two decimal points. Store the result in place and print the new m3\n",
    "m3 = np.around(m3,2)\n",
    "print m3"
   ]
  },
  {
   "cell_type": "code",
   "execution_count": 27,
   "metadata": {
    "collapsed": false,
    "scrolled": true
   },
   "outputs": [
    {
     "name": "stdout",
     "output_type": "stream",
     "text": [
      "[[ 437.89  482.33  697.33  748.11]\n",
      " [ 402.22  437.89  454.56  489.89]]\n"
     ]
    }
   ],
   "source": [
    "s = np.sort(m3)\n",
    "print s"
   ]
  },
  {
   "cell_type": "code",
   "execution_count": 41,
   "metadata": {
    "collapsed": false
   },
   "outputs": [
    {
     "name": "stdout",
     "output_type": "stream",
     "text": [
      "[[ 748.11  697.33  489.89  482.33]\n",
      " [ 454.56  437.89  437.89  402.22]]\n"
     ]
    }
   ],
   "source": [
    "# Sort the m3 array so that the highest value is at the top left, the next highest value to the right of the highest, \n",
    "# and the lowest value is at the bottom right. Print the sorted m3 array.\n",
    "s = m3.reshape(1,8)\n",
    "s1 = np.sort(s,axis=None)\n",
    "s2 = s1[::-1]\n",
    "m3 = s2.reshape(2,4)\n",
    "print m3"
   ]
  },
  {
   "cell_type": "code",
   "execution_count": null,
   "metadata": {
    "collapsed": true
   },
   "outputs": [],
   "source": []
  }
 ],
 "metadata": {
  "anaconda-cloud": {},
  "kernelspec": {
   "display_name": "Python [conda root]",
   "language": "python",
   "name": "conda-root-py"
  },
  "language_info": {
   "codemirror_mode": {
    "name": "ipython",
    "version": 2
   },
   "file_extension": ".py",
   "mimetype": "text/x-python",
   "name": "python",
   "nbconvert_exporter": "python",
   "pygments_lexer": "ipython2",
   "version": "2.7.12"
  }
 },
 "nbformat": 4,
 "nbformat_minor": 1
}
