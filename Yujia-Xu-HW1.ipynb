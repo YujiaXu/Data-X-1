{
 "cells": [
  {
   "cell_type": "markdown",
   "metadata": {},
   "source": [
    "## Data X (IEOR190D / 290): HW 1\n",
    "### Yujia Xu\n",
    "#### SID: 3032144766\n"
   ]
  },
  {
   "cell_type": "markdown",
   "metadata": {},
   "source": [
    "# Problem 1"
   ]
  },
  {
   "cell_type": "code",
   "execution_count": 2,
   "metadata": {
    "collapsed": false
   },
   "outputs": [
    {
     "name": "stdout",
     "output_type": "stream",
     "text": [
      "[2.0, 2.5, 3.0, 3.5, 4.0, 4.5, 5.0, 5.5, 6.0, 6.5, 7.0, 7.5, 8.0, 8.5, 9.0, 9.5, 10.0, 10.5, 11.0, 11.5, 12.0, 12.5, 13.0, 13.5, 14.0, 14.5, 15.0, 15.5, 16.0, 16.5, 17.0, 17.5, 18.0, 18.5, 19.0, 19.5, 20.0, 20.5, 21.0, 21.5, 22.0, 22.5, 23.0, 23.5, 24.0, 24.5, 25.0, 25.5, 26.0, 26.5, 27.0, 27.5, 28.0, 28.5, 29.0, 29.5, 30.0, 30.5, 31.0, 31.5, 32.0, 32.5, 33.0, 33.5, 34.0, 34.5, 35.0, 35.5, 36.0, 36.5, 37.0, 37.5, 38.0, 38.5, 39.0, 39.5, 40.0, 40.5, 41.0, 41.5, 42.0, 42.5, 43.0, 43.5, 44.0, 44.5, 45.0, 45.5, 46.0]\n"
     ]
    }
   ],
   "source": [
    "# Create an empty Python list called a\n",
    "a = []\n",
    "# In a store all numbers between 2-46 with 0.5 increment bands\n",
    "a = [x*0.5 for x in range(4,93)]\n",
    "print a"
   ]
  },
  {
   "cell_type": "code",
   "execution_count": 3,
   "metadata": {
    "collapsed": false
   },
   "outputs": [
    {
     "name": "stdout",
     "output_type": "stream",
     "text": [
      "[4.0, 2.5, 3.0, 3.5, 8.0, 4.5, 5.0, 5.5, 12.0, 6.5, 7.0, 7.5, 16.0, 8.5, 9.0, 9.5, 20.0, 10.5, 11.0, 11.5, 24.0, 12.5, 13.0, 13.5, 28.0, 14.5, 15.0, 15.5, 32.0, 16.5, 17.0, 17.5, 36.0, 18.5, 19.0, 19.5, 40.0, 20.5, 21.0, 21.5, 44.0, 22.5, 23.0, 23.5, 48.0, 24.5, 25.0, 25.5, 52.0, 26.5, 27.0, 27.5, 56.0, 28.5, 29.0, 29.5, 60.0, 30.5, 31.0, 31.5, 64.0, 32.5, 33.0, 33.5, 68.0, 34.5, 35.0, 35.5, 72.0, 36.5, 37.0, 37.5, 76.0, 38.5, 39.0, 39.5, 80.0, 40.5, 41.0, 41.5, 84.0, 42.5, 43.0, 43.5, 88.0, 44.5, 45.0, 45.5, 92.0]\n"
     ]
    }
   ],
   "source": [
    "# Double every even integer element of a\n",
    "for i in range(len(a)):\n",
    "    if a[i] %2 != 0:\n",
    "        continue\n",
    "    if a[i] %2 == 0:\n",
    "        a[i]=a[i]*2\n",
    "print a"
   ]
  },
  {
   "cell_type": "code",
   "execution_count": 4,
   "metadata": {
    "collapsed": false
   },
   "outputs": [
    {
     "data": {
      "text/plain": [
       "2643.5"
      ]
     },
     "execution_count": 4,
     "metadata": {},
     "output_type": "execute_result"
    }
   ],
   "source": [
    "# Add all numbers in a (except for the 32nd and the 51st element)\n",
    "c = 0\n",
    "for i in range(len(a)):\n",
    "    if i != 31 and i != 50:\n",
    "        c = c + a[i]\n",
    "c"
   ]
  },
  {
   "cell_type": "code",
   "execution_count": 5,
   "metadata": {
    "collapsed": false
   },
   "outputs": [
    {
     "data": {
      "text/plain": [
       "30.202247191011235"
      ]
     },
     "execution_count": 5,
     "metadata": {},
     "output_type": "execute_result"
    }
   ],
   "source": [
    "# Calculate the mean of a\n",
    "import numpy as np\n",
    "m = np.mean(a)\n",
    "m"
   ]
  },
  {
   "cell_type": "code",
   "execution_count": 7,
   "metadata": {
    "collapsed": false
   },
   "outputs": [
    {
     "name": "stdout",
     "output_type": "stream",
     "text": [
      "[2.5, 3.5, 4.5, 5.5, 6.5, 7.5, 8.5, 9.5, 10.5, 11.5, 12.5, 13.5, 14.5, 15.5, 16.5, 17.5, 18.5, 19.5, 20.5, 21.5, 22.5, 23.5, 24.5, 25.5, 26.5, 27.5, 28.5, 29.5, 30.5, 31.5, 32.5, 33.5, 34.5, 35.5, 36.5, 37.5, 38.5, 39.5, 40.5, 41.5, 42.5, 43.5, 44.5, 45.5]\n"
     ]
    }
   ],
   "source": [
    "# Create a new list called a_half, containing all the .5 (half-numbers) in a\n",
    "a_half = []\n",
    "for i in range(len(a)):\n",
    "    if a[i]%1 != 0:\n",
    "        a_half.append(a[i])\n",
    "print a_half"
   ]
  },
  {
   "cell_type": "code",
   "execution_count": 9,
   "metadata": {
    "collapsed": false
   },
   "outputs": [
    {
     "name": "stdout",
     "output_type": "stream",
     "text": [
      "[4.0, 3.0, 8.0, 5.0, 12.0, 7.0, 16.0, 9.0, 20.0, 11.0, 24.0, 13.0, 28.0, 15.0, 32.0, 17.0, 36.0, 19.0, 40.0, 21.0, 44.0, 23.0, 48.0, 25.0, 52.0, 27.0, 56.0, 29.0, 60.0, 31.0, 64.0, 33.0, 68.0, 35.0, 72.0, 37.0, 76.0, 39.0, 80.0, 41.0, 84.0, 43.0, 88.0, 45.0, 92.0, 2.5, 3.5, 4.5, 5.5, 6.5, 7.5, 8.5, 9.5, 10.5, 11.5, 12.5, 13.5, 14.5, 15.5, 16.5, 17.5, 18.5, 19.5, 20.5, 21.5, 22.5, 23.5, 24.5, 25.5, 26.5, 27.5, 28.5, 29.5, 30.5, 31.5, 32.5, 33.5, 34.5, 35.5, 36.5, 37.5, 38.5, 39.5, 40.5, 41.5, 42.5, 43.5, 44.5, 45.5]\n"
     ]
    }
   ],
   "source": [
    "# Sort a\n",
    "b =[x for x in a if x%1 == 0]\n",
    "c =[x for x in a if x%1 != 0]\n",
    "a = b + c\n",
    "print a"
   ]
  },
  {
   "cell_type": "code",
   "execution_count": 13,
   "metadata": {
    "collapsed": false
   },
   "outputs": [
    {
     "name": "stdout",
     "output_type": "stream",
     "text": [
      "[4.0, 12.0, 20.0, 28.0, 36.0, 44.0, 52.0, 60.0, 68.0, 76.0, 84.0, 92.0, 5.5, 9.5, 13.5, 17.5, 21.5, 25.5, 29.5, 33.5, 37.5, 41.5, 45.5]\n"
     ]
    }
   ],
   "source": [
    "# every 4th element\n",
    "d = []\n",
    "for i in range(len(a)):\n",
    "    if i %4 == 0:\n",
    "        d.append(a[i])\n",
    "print d"
   ]
  },
  {
   "cell_type": "code",
   "execution_count": 19,
   "metadata": {
    "collapsed": false
   },
   "outputs": [
    {
     "name": "stdout",
     "output_type": "stream",
     "text": [
      "Number of interger is 45\n",
      "Number of half-numbers is 44\n"
     ]
    }
   ],
   "source": [
    "# count the num of inter and half\n",
    "n_int=0\n",
    "n_half=0\n",
    "for i in range(len(a)):\n",
    "    if a[i]%1 == 0:\n",
    "        n_int += 1\n",
    "    \n",
    "    if a[i]%1 == 0.5:\n",
    "        n_half += 1\n",
    "\n",
    "print \"Number of interger is\", n_int\n",
    "print \"Number of half-numbers is\", n_half"
   ]
  },
  {
   "cell_type": "markdown",
   "metadata": {},
   "source": [
    "# Problem 2"
   ]
  },
  {
   "cell_type": "code",
   "execution_count": 64,
   "metadata": {
    "collapsed": false
   },
   "outputs": [],
   "source": [
    "# Create an empty list called b\n",
    "b = []\n",
    "b = ['I', 'am', 'so', 'excited', 'about', 'Data-X','.','I','feel','it','is','important','to','be','able','to','work', \n",
    "     'with', 'data','.']"
   ]
  },
  {
   "cell_type": "code",
   "execution_count": 65,
   "metadata": {
    "collapsed": false
   },
   "outputs": [
    {
     "data": {
      "text/plain": [
       "6"
      ]
     },
     "execution_count": 65,
     "metadata": {},
     "output_type": "execute_result"
    }
   ],
   "source": [
    "# Count the occurences of the lower-case letter ’e’ in the list b\n",
    "count = 0\n",
    "for word in b:\n",
    "    for character in word:\n",
    "        if 'e' in character:\n",
    "            count +=1\n",
    "count"
   ]
  },
  {
   "cell_type": "code",
   "execution_count": 71,
   "metadata": {
    "collapsed": false
   },
   "outputs": [],
   "source": [
    "# Replace every lower- or upper-case letter ’i’ in the list b with a ’1’\n",
    "for word in b:\n",
    "    for character in word:\n",
    "        if character == 'i' or 'I':\n",
    "            character = '1'"
   ]
  },
  {
   "cell_type": "code",
   "execution_count": 72,
   "metadata": {
    "collapsed": false
   },
   "outputs": [],
   "source": [
    "# Append the string ”This is the end of the first HW\", to the list b, with every new word as an element of its own\n",
    "c = ['This', 'is', 'the', 'end', 'of','the', 'first', 'HW']\n",
    "for i in range(len(c)):\n",
    "    b.append(c[i])"
   ]
  },
  {
   "cell_type": "code",
   "execution_count": 93,
   "metadata": {
    "collapsed": false
   },
   "outputs": [
    {
     "data": {
      "text/plain": [
       "'I am so excited about Data-X . I feel it is important to be able to work with data . This is the end of the first HW This is the end of the first HW '"
      ]
     },
     "execution_count": 93,
     "metadata": {},
     "output_type": "execute_result"
    }
   ],
   "source": [
    "n = ''\n",
    "for f in b:\n",
    "    n = n + f +' '\n",
    "n"
   ]
  },
  {
   "cell_type": "code",
   "execution_count": 94,
   "metadata": {
    "collapsed": false
   },
   "outputs": [
    {
     "name": "stdout",
     "output_type": "stream",
     "text": [
      " WH tsrif eht fo dne eht si sihT WH tsrif eht fo dne eht si sihT . atad htiw krow ot elba eb ot tnatropmi si ti leef I . X-ataD tuoba deticxe os ma I\n"
     ]
    }
   ],
   "source": [
    "# Print b, as ONE string backwards \n",
    "string = n[::-1]\n",
    "print string"
   ]
  },
  {
   "cell_type": "code",
   "execution_count": 15,
   "metadata": {
    "collapsed": false
   },
   "outputs": [
    {
     "name": "stdout",
     "output_type": "stream",
     "text": [
      "[2.5, 3.5, 4.5, 5.5, 6.5, 7.5, 8.5, 9.5, 10.5, 11.5, 12.5, 13.5, 14.5, 15.5, 16.5, 17.5, 18.5, 19.5, 20.5, 21.5, 22.5, 23.5, 24.5, 25.5, 26.5, 27.5, 28.5, 29.5, 30.5, 31.5, 32.5, 33.5, 34.5, 35.5, 36.5, 37.5, 38.5, 39.5, 40.5, 41.5, 42.5, 43.5, 44.5, 45.5]\n"
     ]
    }
   ],
   "source": [
    "# half-numbers\n",
    "c = [x for x in a if x%1 != 0]\n",
    "print c"
   ]
  },
  {
   "cell_type": "code",
   "execution_count": null,
   "metadata": {
    "collapsed": true
   },
   "outputs": [],
   "source": []
  }
 ],
 "metadata": {
  "anaconda-cloud": {},
  "kernelspec": {
   "display_name": "Python [conda root]",
   "language": "python",
   "name": "conda-root-py"
  },
  "language_info": {
   "codemirror_mode": {
    "name": "ipython",
    "version": 2
   },
   "file_extension": ".py",
   "mimetype": "text/x-python",
   "name": "python",
   "nbconvert_exporter": "python",
   "pygments_lexer": "ipython2",
   "version": "2.7.12"
  }
 },
 "nbformat": 4,
 "nbformat_minor": 1
}
